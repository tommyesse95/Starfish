{
 "cells": [
  {
   "cell_type": "code",
   "execution_count": null,
   "metadata": {},
   "outputs": [],
   "source": [
    "from matplotlib import pyplot as plt \n",
    "import pandas as pd\n",
    "from scipy import interpolate \n",
    "\n",
    "an_1 = pd.read_csv('an_1.csv', header=None, names=('Pd', 'V')) # M = 10 ^ 3 (gamma=0.01)\n",
    "perc_exceed = pd.read_csv('perc_exceed.csv', header=None, names=('Pd', 'V')) # M = 10 ^ 3 (gamma=0.01)\n",
    "\n",
    "ax1 = plt.gca() # get the current axis\n",
    "ax2 = ax1.twinx() # get another y axis.\n",
    "ax1.plot (an_1.Pd, an_1.V, 'r*--', label='Analyt_1')\n",
    "ax2.plot (perc_excedd.Pd, perc_excedd.V, 'g*--', label='Excedd')"
   ]
  }
 ],
 "metadata": {
  "kernelspec": {
   "display_name": "Python 3",
   "language": "python",
   "name": "python3"
  },
  "language_info": {
   "codemirror_mode": {
    "name": "ipython",
    "version": 3
   },
   "file_extension": ".py",
   "mimetype": "text/x-python",
   "name": "python",
   "nbconvert_exporter": "python",
   "pygments_lexer": "ipython3",
   "version": "3.7.4"
  }
 },
 "nbformat": 4,
 "nbformat_minor": 2
}
