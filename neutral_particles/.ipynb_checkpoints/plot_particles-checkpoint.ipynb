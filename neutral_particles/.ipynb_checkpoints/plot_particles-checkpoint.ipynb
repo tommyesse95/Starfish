{
 "cells": [
  {
   "cell_type": "code",
   "execution_count": null,
   "metadata": {},
   "outputs": [],
   "source": [
    "from matplotlib import pyplot as plt \n",
    "import pandas as pd\n",
    "from scipy import interpolate \n",
    "\n",
    "\n",
    "# Import data taken with graph reader \n",
    "\n",
    "\n",
    "data_neutral = pd.read_csv('data_neutrals.csv', header=None, names=('It', 'Part')) #  (spwt=1e10)\n",
    "\n",
    "dt = 1e-8 \n",
    "\n",
    "# Compute time simulation \n",
    "\n",
    "for in range(len(data_neutral.It)):\n",
    "    data_neutral.It[i] *= dt \n",
    "\n",
    "plt.figure(figsize=(8,5), dpi=100)\n",
    "\n",
    "\n",
    "\n",
    "# Plot \n",
    "plt.plot (data_neutral.It, data_neutral.Part, 'ko--')\n",
    "plt.xscale(\"log\")\n",
    "plt.yscale(\"log\")\n",
    "\n",
    "# Plot Edit \n",
    "plt.xlabel('Time_sim (s)')\n",
    "plt.ylabel('Part_sim')\n",
    "plt.title('Particles simulated', fontdict={'fontname': 'Comic Sans MS', 'fontsize': 20})\n",
    "\n",
    "\n",
    "\n",
    "# X, Y axis Tickmarks (scale of your graph) put here the values of Sparc. \n",
    "# plt.xticks([0,0.5, 1.5, 2.5, 4.0, 5.0, 6.0, 8.0])\n",
    "# plt.yticks([210, 240, 300, 390, 490, 560])\n",
    "\n",
    "\n",
    "# Save figure (dpi 300 is good when saving so graph has high resolution)\n",
    "# plt.savefig('breakdown_voltage2.png', dpi=300)\n",
    "\n",
    "plt.show()"
   ]
  }
 ],
 "metadata": {
  "kernelspec": {
   "display_name": "Python 3",
   "language": "python",
   "name": "python3"
  },
  "language_info": {
   "codemirror_mode": {
    "name": "ipython",
    "version": 3
   },
   "file_extension": ".py",
   "mimetype": "text/x-python",
   "name": "python",
   "nbconvert_exporter": "python",
   "pygments_lexer": "ipython3",
   "version": "3.7.4"
  }
 },
 "nbformat": 4,
 "nbformat_minor": 2
}
